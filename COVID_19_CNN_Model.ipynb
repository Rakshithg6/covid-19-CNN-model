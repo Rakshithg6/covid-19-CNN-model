{
  "cells": [
    {
      "cell_type": "markdown",
      "metadata": {
        "id": "view-in-github",
        "colab_type": "text"
      },
      "source": [
        "<a href=\"https://colab.research.google.com/github/Rakshithg6/covid-19-CNN-model/blob/main/COVID_19_CNN_Model.ipynb\" target=\"_parent\"><img src=\"https://colab.research.google.com/assets/colab-badge.svg\" alt=\"Open In Colab\"/></a>"
      ]
    },
    {
      "cell_type": "code",
      "execution_count": null,
      "id": "0cb3b8c4",
      "metadata": {
        "id": "0cb3b8c4"
      },
      "outputs": [],
      "source": [
        "from keras.models import Sequential\n",
        "from keras.layers import Conv2D\n",
        "from keras.layers import Flatten\n",
        "from keras. layers import MaxPooling2D\n",
        "from keras.layers import Dense\n",
        "import numpy as np"
      ]
    },
    {
      "cell_type": "code",
      "execution_count": null,
      "id": "s8LhuEElW-Fq",
      "metadata": {
        "colab": {
          "base_uri": "https://localhost:8080/"
        },
        "id": "s8LhuEElW-Fq",
        "outputId": "a24c56b9-eb5e-41e6-fdd8-64715bd3a2f4"
      },
      "outputs": [
        {
          "output_type": "stream",
          "name": "stdout",
          "text": [
            "Mounted at /content/drive\n"
          ]
        }
      ],
      "source": [
        "from google.colab import drive\n",
        "drive.mount('/content/drive')"
      ]
    },
    {
      "cell_type": "code",
      "execution_count": null,
      "id": "afa72d60",
      "metadata": {
        "id": "afa72d60"
      },
      "outputs": [],
      "source": [
        "model=Sequential()\n",
        "model.add(Conv2D(32,(3,3),input_shape=(64,64,3),activation='relu'))\n",
        "model.add(MaxPooling2D(pool_size=(2,2)))\n",
        "model.add(Conv2D(34,(5,5),activation='relu'))\n",
        "model.add(MaxPooling2D(pool_size=(2,2)))\n",
        "model.add(Flatten())\n",
        "model.add(Dense(units=128,activation='relu'))\n",
        "model.add(Dense(units=130,activation='relu'))\n",
        "model.add(Dense(units=115,activation='relu'))\n",
        "model.add(Dense(units=1,activation='sigmoid'))"
      ]
    },
    {
      "cell_type": "markdown",
      "id": "qsHOTlwUkpgr",
      "metadata": {
        "id": "qsHOTlwUkpgr"
      },
      "source": [
        "**AlexNet**"
      ]
    },
    {
      "cell_type": "code",
      "execution_count": null,
      "id": "hHqNrllSi50T",
      "metadata": {
        "id": "hHqNrllSi50T"
      },
      "outputs": [],
      "source": [
        "from tensorflow import keras\n",
        "model=keras.models.Sequential([\n",
        "    keras.layers.Conv2D(filters=128, kernel_size=(11,11), strides=(4,4), activation='relu', input_shape=(64,64,3)),\n",
        "    keras.layers.BatchNormalization(),\n",
        "    keras.layers.MaxPool2D(pool_size=(2,2)),\n",
        "    keras.layers.Conv2D(filters=256, kernel_size=(5,5), strides=(1,1), activation='relu', padding=\"same\"),\n",
        "    keras.layers.BatchNormalization(),\n",
        "    keras.layers.MaxPool2D(pool_size=(3,3)),\n",
        "    keras.layers.Conv2D(filters=256, kernel_size=(3,3), strides=(1,1), activation='relu', padding=\"same\"),\n",
        "    keras.layers.BatchNormalization(),\n",
        "    keras.layers.Conv2D(filters=256, kernel_size=(1,1), strides=(1,1), activation='relu', padding=\"same\"),\n",
        "    keras.layers.BatchNormalization(),\n",
        "    keras.layers.Conv2D(filters=256, kernel_size=(1,1), strides=(1,1), activation='relu', padding=\"same\"),\n",
        "    keras.layers.BatchNormalization(),\n",
        "    keras.layers.MaxPool2D(pool_size=(2,2)),\n",
        "    keras.layers.Flatten(),\n",
        "    keras.layers.Dense(1024,activation='relu'),\n",
        "    #keras.layers.Dropout(0.5),\n",
        "    keras.layers.Dense(1024,activation='relu'),\n",
        "    keras.layers.Dropout(0.5),\n",
        "    keras.layers.Dense(1,activation='sigmoid')\n",
        "\n",
        "\n",
        "])"
      ]
    },
    {
      "cell_type": "markdown",
      "id": "Ia2wMlDMkut8",
      "metadata": {
        "id": "Ia2wMlDMkut8"
      },
      "source": [
        "**Transfer Learning**"
      ]
    },
    {
      "cell_type": "code",
      "execution_count": null,
      "id": "3LWSXrzpaYkq",
      "metadata": {
        "id": "3LWSXrzpaYkq",
        "colab": {
          "base_uri": "https://localhost:8080/"
        },
        "outputId": "b85ac4f3-7ecd-45ba-c7b2-24be9c39ab3d"
      },
      "outputs": [
        {
          "output_type": "stream",
          "name": "stdout",
          "text": [
            "Downloading data from https://storage.googleapis.com/tensorflow/keras-applications/resnet/resnet50_weights_tf_dim_ordering_tf_kernels_notop.h5\n",
            "94765736/94765736 [==============================] - 1s 0us/step\n"
          ]
        }
      ],
      "source": [
        "import tensorflow as tf\n",
        "resnet_model = Sequential()\n",
        "\n",
        "pretrained_model= tf.keras.applications.ResNet50(include_top=False,\n",
        "                   input_shape=(64,64,3),\n",
        "                   pooling='avg',classes=2,\n",
        "                   weights='imagenet')\n",
        "for layer in pretrained_model.layers:\n",
        "        layer.trainable=False\n",
        "\n",
        "resnet_model.add(pretrained_model)\n",
        "resnet_model.add(Flatten())\n",
        "resnet_model.add(Dense(512, activation='relu'))\n",
        "resnet_model.add(Dense(1, activation='sigmoid'))"
      ]
    },
    {
      "cell_type": "code",
      "execution_count": null,
      "id": "CxP8jL0LeI2s",
      "metadata": {
        "colab": {
          "base_uri": "https://localhost:8080/"
        },
        "id": "CxP8jL0LeI2s",
        "outputId": "85191012-955b-4f70-a945-71547660407b"
      },
      "outputs": [
        {
          "name": "stdout",
          "output_type": "stream",
          "text": [
            "Downloading data from https://storage.googleapis.com/tensorflow/keras-applications/vgg16/vgg16_weights_tf_dim_ordering_tf_kernels_notop.h5\n",
            "58889256/58889256 [==============================] - 0s 0us/step\n"
          ]
        }
      ],
      "source": [
        "from tensorflow.keras.applications.vgg16 import VGG16\n",
        "vgg_model = Sequential()\n",
        "base_model = VGG16(weights=\"imagenet\", include_top=False, input_shape=(64,64,3))\n",
        "base_model.trainable = False\n",
        "vgg_model.add(base_model)\n",
        "vgg_model.add(Flatten())\n",
        "vgg_model.add(Dense(512, activation='relu'))\n",
        "vgg_model.add(Dense(1, activation='sigmoid'))"
      ]
    },
    {
      "cell_type": "code",
      "execution_count": null,
      "id": "hNOtoYN6gJ7f",
      "metadata": {
        "colab": {
          "base_uri": "https://localhost:8080/"
        },
        "id": "hNOtoYN6gJ7f",
        "outputId": "e7079945-3be0-46d7-bf7b-8ea3e1fec208"
      },
      "outputs": [
        {
          "name": "stdout",
          "output_type": "stream",
          "text": [
            "Downloading data from https://storage.googleapis.com/tensorflow/keras-applications/vgg19/vgg19_weights_tf_dim_ordering_tf_kernels_notop.h5\n",
            "80134624/80134624 [==============================] - 1s 0us/step\n"
          ]
        }
      ],
      "source": [
        "from tensorflow.keras.applications.vgg19 import VGG19\n",
        "vgg19_model=Sequential()\n",
        "vgg = VGG19(weights=\"imagenet\", include_top=False, input_shape=(64,64,3))\n",
        "vgg.trainable = False\n",
        "vgg19_model.add(vgg)\n",
        "vgg19_model.add(Flatten())\n",
        "vgg19_model.add(Dense(512, activation='relu'))\n",
        "vgg19_model.add(Dense(1, activation='sigmoid'))"
      ]
    },
    {
      "cell_type": "code",
      "execution_count": null,
      "id": "c6dddd2e",
      "metadata": {
        "id": "c6dddd2e"
      },
      "outputs": [],
      "source": [
        "model.compile(optimizer='adadelta',loss='binary_crossentropy',metrics=['accuracy'])"
      ]
    },
    {
      "cell_type": "code",
      "execution_count": null,
      "id": "31e1f6bf",
      "metadata": {
        "id": "31e1f6bf"
      },
      "outputs": [],
      "source": [
        "from keras.preprocessing.image import ImageDataGenerator\n",
        "train_datagen = ImageDataGenerator(rescale = 1./255,shear_range = 0.2,zoom_range = 0.4,horizontal_flip = True)\n",
        "test_datagen = ImageDataGenerator(rescale = 1./255)\n"
      ]
    },
    {
      "cell_type": "code",
      "execution_count": null,
      "id": "d3e65e10",
      "metadata": {
        "colab": {
          "base_uri": "https://localhost:8080/"
        },
        "id": "d3e65e10",
        "outputId": "fb87564e-683b-42bf-da5e-96da2b4669b5"
      },
      "outputs": [
        {
          "output_type": "stream",
          "name": "stdout",
          "text": [
            "Found 238 images belonging to 2 classes.\n",
            "Found 39 images belonging to 2 classes.\n"
          ]
        }
      ],
      "source": [
        "training_set =train_datagen.flow_from_directory('/content/drive/MyDrive/Deep Learning Contents/Deep Learning (26th April to 30th April, 2022)/Day 2/Afternoon/covid_data_updated/Train',target_size = (64, 64),batch_size = 8,class_mode = 'binary')\n",
        "test_set = test_datagen.flow_from_directory('/content/drive/MyDrive/Deep Learning Contents/Deep Learning (26th April to 30th April, 2022)/Day 2/Afternoon/covid_data_updated/test',target_size = (64, 64),batch_size = 8,class_mode = 'binary')"
      ]
    },
    {
      "cell_type": "code",
      "execution_count": null,
      "id": "bab5fa16",
      "metadata": {
        "colab": {
          "base_uri": "https://localhost:8080/"
        },
        "id": "bab5fa16",
        "outputId": "96aff9cc-2365-4bc8-d161-e7069ec9d7a3"
      },
      "outputs": [
        {
          "output_type": "stream",
          "name": "stdout",
          "text": [
            "Epoch 1/100\n",
            "20/20 [==============================] - 4s 207ms/step - loss: 0.7379 - accuracy: 0.4810\n",
            "Epoch 2/100\n",
            "20/20 [==============================] - 7s 317ms/step - loss: 0.7475 - accuracy: 0.4557\n",
            "Epoch 3/100\n",
            "20/20 [==============================] - 4s 198ms/step - loss: 0.7322 - accuracy: 0.4810\n",
            "Epoch 4/100\n",
            "20/20 [==============================] - 8s 373ms/step - loss: 0.7309 - accuracy: 0.4812\n",
            "Epoch 5/100\n",
            "20/20 [==============================] - 4s 195ms/step - loss: 0.7389 - accuracy: 0.4557\n",
            "Epoch 6/100\n",
            "20/20 [==============================] - 4s 195ms/step - loss: 0.7316 - accuracy: 0.4684\n",
            "Epoch 7/100\n",
            "20/20 [==============================] - 7s 332ms/step - loss: 0.7292 - accuracy: 0.4688\n",
            "Epoch 8/100\n",
            "20/20 [==============================] - 4s 196ms/step - loss: 0.7304 - accuracy: 0.4625\n",
            "Epoch 9/100\n",
            "20/20 [==============================] - 5s 255ms/step - loss: 0.7083 - accuracy: 0.5127\n",
            "Epoch 10/100\n",
            "20/20 [==============================] - 5s 251ms/step - loss: 0.7320 - accuracy: 0.4494\n",
            "Epoch 11/100\n",
            "20/20 [==============================] - 5s 236ms/step - loss: 0.7293 - accuracy: 0.4437\n",
            "Epoch 12/100\n",
            "20/20 [==============================] - 6s 275ms/step - loss: 0.7154 - accuracy: 0.4812\n",
            "Epoch 13/100\n",
            "20/20 [==============================] - 4s 201ms/step - loss: 0.7308 - accuracy: 0.4304\n",
            "Epoch 14/100\n",
            "20/20 [==============================] - 6s 278ms/step - loss: 0.7176 - accuracy: 0.4688\n",
            "Epoch 15/100\n",
            "20/20 [==============================] - 4s 193ms/step - loss: 0.7247 - accuracy: 0.4367\n",
            "Epoch 16/100\n",
            "20/20 [==============================] - 4s 212ms/step - loss: 0.7174 - accuracy: 0.4557\n",
            "Epoch 17/100\n",
            "20/20 [==============================] - 6s 296ms/step - loss: 0.7111 - accuracy: 0.4750\n",
            "Epoch 18/100\n",
            "20/20 [==============================] - 4s 198ms/step - loss: 0.7086 - accuracy: 0.4810\n",
            "Epoch 19/100\n",
            "20/20 [==============================] - 6s 317ms/step - loss: 0.7141 - accuracy: 0.4557\n",
            "Epoch 20/100\n",
            "20/20 [==============================] - 4s 199ms/step - loss: 0.7168 - accuracy: 0.4367\n",
            "Epoch 21/100\n",
            "20/20 [==============================] - 6s 319ms/step - loss: 0.7113 - accuracy: 0.4557\n",
            "Epoch 22/100\n",
            "20/20 [==============================] - 4s 196ms/step - loss: 0.7091 - accuracy: 0.4625\n",
            "Epoch 23/100\n",
            "20/20 [==============================] - 6s 294ms/step - loss: 0.7061 - accuracy: 0.4620\n",
            "Epoch 24/100\n",
            "20/20 [==============================] - 4s 192ms/step - loss: 0.7040 - accuracy: 0.4684\n",
            "Epoch 25/100\n",
            "20/20 [==============================] - 6s 286ms/step - loss: 0.7134 - accuracy: 0.4187\n",
            "Epoch 26/100\n",
            "20/20 [==============================] - 4s 210ms/step - loss: 0.7025 - accuracy: 0.4747\n",
            "Epoch 27/100\n",
            "20/20 [==============================] - 4s 197ms/step - loss: 0.7029 - accuracy: 0.4684\n",
            "Epoch 28/100\n",
            "20/20 [==============================] - 5s 245ms/step - loss: 0.7029 - accuracy: 0.4625\n",
            "Epoch 29/100\n",
            "20/20 [==============================] - 6s 269ms/step - loss: 0.7023 - accuracy: 0.4557\n",
            "Epoch 30/100\n",
            "20/20 [==============================] - 5s 233ms/step - loss: 0.7024 - accuracy: 0.4500\n",
            "Epoch 31/100\n",
            "20/20 [==============================] - 6s 271ms/step - loss: 0.6998 - accuracy: 0.4625\n",
            "Epoch 32/100\n",
            "20/20 [==============================] - 4s 195ms/step - loss: 0.6962 - accuracy: 0.4937\n",
            "Epoch 33/100\n",
            "20/20 [==============================] - 4s 219ms/step - loss: 0.6961 - accuracy: 0.5000\n",
            "Epoch 34/100\n",
            "20/20 [==============================] - 6s 283ms/step - loss: 0.7014 - accuracy: 0.4437\n",
            "Epoch 35/100\n",
            "20/20 [==============================] - 4s 193ms/step - loss: 0.6992 - accuracy: 0.4625\n",
            "Epoch 36/100\n",
            "20/20 [==============================] - 6s 292ms/step - loss: 0.6973 - accuracy: 0.4688\n",
            "Epoch 37/100\n",
            "20/20 [==============================] - 4s 190ms/step - loss: 0.6979 - accuracy: 0.4620\n",
            "Epoch 38/100\n",
            "20/20 [==============================] - 6s 289ms/step - loss: 0.6958 - accuracy: 0.4812\n",
            "Epoch 39/100\n",
            "20/20 [==============================] - 4s 197ms/step - loss: 0.6965 - accuracy: 0.4688\n",
            "Epoch 40/100\n",
            "20/20 [==============================] - 6s 317ms/step - loss: 0.6969 - accuracy: 0.4747\n",
            "Epoch 41/100\n",
            "20/20 [==============================] - 4s 196ms/step - loss: 0.6974 - accuracy: 0.4563\n",
            "Epoch 42/100\n",
            "20/20 [==============================] - 5s 259ms/step - loss: 0.6956 - accuracy: 0.4625\n",
            "Epoch 43/100\n",
            "20/20 [==============================] - 5s 230ms/step - loss: 0.6962 - accuracy: 0.4684\n",
            "Epoch 44/100\n",
            "20/20 [==============================] - 6s 309ms/step - loss: 0.6950 - accuracy: 0.5127\n",
            "Epoch 45/100\n",
            "20/20 [==============================] - 4s 194ms/step - loss: 0.6939 - accuracy: 0.5063\n",
            "Epoch 46/100\n",
            "20/20 [==============================] - 4s 196ms/step - loss: 0.6932 - accuracy: 0.4937\n",
            "Epoch 47/100\n",
            "20/20 [==============================] - 6s 324ms/step - loss: 0.6943 - accuracy: 0.4750\n",
            "Epoch 48/100\n",
            "20/20 [==============================] - 4s 196ms/step - loss: 0.6941 - accuracy: 0.4557\n",
            "Epoch 49/100\n",
            "20/20 [==============================] - 5s 244ms/step - loss: 0.6931 - accuracy: 0.5316\n",
            "Epoch 50/100\n",
            "20/20 [==============================] - 5s 256ms/step - loss: 0.6931 - accuracy: 0.4937\n",
            "Epoch 51/100\n",
            "20/20 [==============================] - 5s 230ms/step - loss: 0.6931 - accuracy: 0.4500\n",
            "Epoch 52/100\n",
            "20/20 [==============================] - 6s 280ms/step - loss: 0.6919 - accuracy: 0.5375\n",
            "Epoch 53/100\n",
            "20/20 [==============================] - 4s 199ms/step - loss: 0.6936 - accuracy: 0.4810\n",
            "Epoch 54/100\n",
            "20/20 [==============================] - 7s 324ms/step - loss: 0.6929 - accuracy: 0.4684\n",
            "Epoch 55/100\n",
            "20/20 [==============================] - 4s 200ms/step - loss: 0.6914 - accuracy: 0.5443\n",
            "Epoch 56/100\n",
            "20/20 [==============================] - 6s 299ms/step - loss: 0.6922 - accuracy: 0.5443\n",
            "Epoch 57/100\n",
            "20/20 [==============================] - 4s 196ms/step - loss: 0.6921 - accuracy: 0.5250\n",
            "Epoch 58/100\n",
            "20/20 [==============================] - 6s 293ms/step - loss: 0.6905 - accuracy: 0.5570\n",
            "Epoch 59/100\n",
            "20/20 [==============================] - 4s 205ms/step - loss: 0.6917 - accuracy: 0.5437\n",
            "Epoch 60/100\n",
            "20/20 [==============================] - 4s 190ms/step - loss: 0.6917 - accuracy: 0.5380\n",
            "Epoch 61/100\n",
            "20/20 [==============================] - 5s 243ms/step - loss: 0.6924 - accuracy: 0.5250\n",
            "Epoch 62/100\n",
            "20/20 [==============================] - 6s 266ms/step - loss: 0.6918 - accuracy: 0.5443\n",
            "Epoch 63/100\n",
            "20/20 [==============================] - 4s 191ms/step - loss: 0.6933 - accuracy: 0.4937\n",
            "Epoch 64/100\n",
            "20/20 [==============================] - 5s 232ms/step - loss: 0.6912 - accuracy: 0.5380\n",
            "Epoch 65/100\n",
            "20/20 [==============================] - 6s 287ms/step - loss: 0.6932 - accuracy: 0.5063\n",
            "Epoch 66/100\n",
            "20/20 [==============================] - 4s 192ms/step - loss: 0.6901 - accuracy: 0.5570\n",
            "Epoch 67/100\n",
            "20/20 [==============================] - 4s 212ms/step - loss: 0.6904 - accuracy: 0.5570\n",
            "Epoch 68/100\n",
            "20/20 [==============================] - 6s 312ms/step - loss: 0.6899 - accuracy: 0.5443\n",
            "Epoch 69/100\n",
            "20/20 [==============================] - 4s 193ms/step - loss: 0.6918 - accuracy: 0.5127\n",
            "Epoch 70/100\n",
            "20/20 [==============================] - 4s 194ms/step - loss: 0.6927 - accuracy: 0.5000\n",
            "Epoch 71/100\n",
            "20/20 [==============================] - 6s 291ms/step - loss: 0.6901 - accuracy: 0.5312\n",
            "Epoch 72/100\n",
            "20/20 [==============================] - 4s 198ms/step - loss: 0.6906 - accuracy: 0.5375\n",
            "Epoch 73/100\n",
            "20/20 [==============================] - 4s 192ms/step - loss: 0.6902 - accuracy: 0.5437\n",
            "Epoch 74/100\n",
            "20/20 [==============================] - 6s 318ms/step - loss: 0.6915 - accuracy: 0.5316\n",
            "Epoch 75/100\n",
            "20/20 [==============================] - 4s 202ms/step - loss: 0.6914 - accuracy: 0.5312\n",
            "Epoch 76/100\n",
            "20/20 [==============================] - 4s 196ms/step - loss: 0.6906 - accuracy: 0.5250\n",
            "Epoch 77/100\n",
            "20/20 [==============================] - 6s 310ms/step - loss: 0.6908 - accuracy: 0.5443\n",
            "Epoch 78/100\n",
            "20/20 [==============================] - 4s 189ms/step - loss: 0.6886 - accuracy: 0.5506\n",
            "Epoch 79/100\n",
            "20/20 [==============================] - 4s 193ms/step - loss: 0.6888 - accuracy: 0.5570\n",
            "Epoch 80/100\n",
            "20/20 [==============================] - 5s 262ms/step - loss: 0.6921 - accuracy: 0.5188\n",
            "Epoch 81/100\n",
            "20/20 [==============================] - 4s 194ms/step - loss: 0.6873 - accuracy: 0.5437\n",
            "Epoch 82/100\n",
            "20/20 [==============================] - 5s 262ms/step - loss: 0.6881 - accuracy: 0.5500\n",
            "Epoch 83/100\n",
            "20/20 [==============================] - 6s 265ms/step - loss: 0.6865 - accuracy: 0.5688\n",
            "Epoch 84/100\n",
            "20/20 [==============================] - 4s 200ms/step - loss: 0.6912 - accuracy: 0.5190\n",
            "Epoch 85/100\n",
            "20/20 [==============================] - 5s 257ms/step - loss: 0.6899 - accuracy: 0.5312\n",
            "Epoch 86/100\n",
            "20/20 [==============================] - 4s 191ms/step - loss: 0.6858 - accuracy: 0.5633\n",
            "Epoch 87/100\n",
            "20/20 [==============================] - 4s 194ms/step - loss: 0.6887 - accuracy: 0.5443\n",
            "Epoch 88/100\n",
            "20/20 [==============================] - 7s 340ms/step - loss: 0.6872 - accuracy: 0.5562\n",
            "Epoch 89/100\n",
            "20/20 [==============================] - 6s 315ms/step - loss: 0.6915 - accuracy: 0.5063\n",
            "Epoch 90/100\n",
            "20/20 [==============================] - 4s 193ms/step - loss: 0.6842 - accuracy: 0.5823\n",
            "Epoch 91/100\n",
            "20/20 [==============================] - 4s 193ms/step - loss: 0.6870 - accuracy: 0.5437\n",
            "Epoch 92/100\n",
            "20/20 [==============================] - 6s 288ms/step - loss: 0.6897 - accuracy: 0.5253\n",
            "Epoch 93/100\n",
            "20/20 [==============================] - 4s 193ms/step - loss: 0.6946 - accuracy: 0.4937\n",
            "Epoch 94/100\n",
            "20/20 [==============================] - 4s 203ms/step - loss: 0.6822 - accuracy: 0.5823\n",
            "Epoch 95/100\n",
            "20/20 [==============================] - 6s 299ms/step - loss: 0.6892 - accuracy: 0.5316\n",
            "Epoch 96/100\n",
            "20/20 [==============================] - 4s 194ms/step - loss: 0.6876 - accuracy: 0.5506\n",
            "Epoch 97/100\n",
            "20/20 [==============================] - 6s 299ms/step - loss: 0.6849 - accuracy: 0.5506\n",
            "Epoch 98/100\n",
            "20/20 [==============================] - 4s 196ms/step - loss: 0.6843 - accuracy: 0.5688\n",
            "Epoch 99/100\n",
            "20/20 [==============================] - 5s 257ms/step - loss: 0.6830 - accuracy: 0.5696\n",
            "Epoch 100/100\n",
            "20/20 [==============================] - 6s 268ms/step - loss: 0.6911 - accuracy: 0.5127\n"
          ]
        },
        {
          "output_type": "execute_result",
          "data": {
            "text/plain": [
              "<keras.src.callbacks.History at 0x79335525e6b0>"
            ]
          },
          "metadata": {},
          "execution_count": 47
        }
      ],
      "source": [
        "model.fit(training_set,steps_per_epoch = 20,epochs = 100)"
      ]
    },
    {
      "cell_type": "code",
      "execution_count": null,
      "id": "r9_0KvohZv1f",
      "metadata": {
        "colab": {
          "base_uri": "https://localhost:8080/"
        },
        "id": "r9_0KvohZv1f",
        "outputId": "b668a0d4-223d-479f-c617-b6f25bec6754"
      },
      "outputs": [
        {
          "output_type": "stream",
          "name": "stdout",
          "text": [
            "5/5 - 1s - loss: 0.6620 - accuracy: 0.7692 - 1s/epoch - 253ms/step\n",
            "\n",
            "\n",
            "\n",
            "Test Loss: \t 0.6620224118232727 \n",
            "\n",
            "Test accuracy: \t 0.7692307829856873 \n",
            "\n"
          ]
        }
      ],
      "source": [
        "test_loss, test_acc = model.evaluate(test_set, verbose=2)\n",
        "\n",
        "print(\"\\n\\n\")\n",
        "print(\"Test Loss: \\t\", test_loss, \"\\n\")\n",
        "print(\"Test accuracy: \\t\", test_acc, \"\\n\")"
      ]
    },
    {
      "cell_type": "code",
      "execution_count": null,
      "id": "00853439",
      "metadata": {
        "colab": {
          "base_uri": "https://localhost:8080/"
        },
        "id": "00853439",
        "outputId": "b062ac90-5376-4436-979a-5fa3f6999737"
      },
      "outputs": [
        {
          "output_type": "stream",
          "name": "stdout",
          "text": [
            "1/1 [==============================] - 0s 113ms/step\n",
            "[[0.28330296]]\n",
            "Corona\n"
          ]
        }
      ],
      "source": [
        "import numpy as np\n",
        "from keras.preprocessing import image\n",
        "import keras.utils as image\n",
        "test_image =image.load_img('/content/drive/MyDrive/Deep Learning Contents/Deep Learning (26th April to 30th April, 2022)/Day 2/Afternoon/covid_data_updated/test/Non Covid/Non_Corona1_138.jpg',target_size = (64, 64))\n",
        "test_image = image.img_to_array(test_image)\n",
        "test_image = np.expand_dims(test_image, axis = 0)\n",
        "result = resnet_model.predict(test_image)\n",
        "print(result)\n",
        "training_set.class_indices\n",
        "if result[0][0] > 0.5:\n",
        "  result[0][0] = 1\n",
        "else:\n",
        "  result[0][0] = 0\n",
        "\n",
        "if result[0][0] == 1:\n",
        "  prediction = 'Normal'\n",
        "else:\n",
        "  prediction = 'Corona'\n",
        "print(prediction)\n"
      ]
    },
    {
      "cell_type": "markdown",
      "id": "UdD4A6iWhPV-",
      "metadata": {
        "id": "UdD4A6iWhPV-"
      },
      "source": [
        "**XAI Methods for Images**\n",
        "\n",
        "LIME\n",
        "\n",
        "SHAP\n",
        "\n",
        "GRAD-CAM\n",
        "\n",
        "SMOOTHGRAD\n",
        "\n",
        "SALIENCY MAPS\n",
        "\n",
        "Occlusion Sensitivity"
      ]
    },
    {
      "cell_type": "markdown",
      "id": "yyKInEddoPuH",
      "metadata": {
        "id": "yyKInEddoPuH"
      },
      "source": [
        "**SHAP**"
      ]
    },
    {
      "cell_type": "code",
      "execution_count": null,
      "id": "aa1D0dYX4h12",
      "metadata": {
        "colab": {
          "base_uri": "https://localhost:8080/"
        },
        "id": "aa1D0dYX4h12",
        "outputId": "f05efa1f-3272-4adc-8278-0205bae1b7f1"
      },
      "outputs": [
        {
          "output_type": "stream",
          "name": "stdout",
          "text": [
            "Collecting shap\n",
            "  Downloading shap-0.45.1-cp310-cp310-manylinux_2_12_x86_64.manylinux2010_x86_64.manylinux_2_17_x86_64.manylinux2014_x86_64.whl (540 kB)\n",
            "\u001b[2K     \u001b[90m━━━━━━━━━━━━━━━━━━━━━━━━━━━━━━━━━━━━━━━━\u001b[0m \u001b[32m540.5/540.5 kB\u001b[0m \u001b[31m9.0 MB/s\u001b[0m eta \u001b[36m0:00:00\u001b[0m\n",
            "\u001b[?25hRequirement already satisfied: numpy in /usr/local/lib/python3.10/dist-packages (from shap) (1.25.2)\n",
            "Requirement already satisfied: scipy in /usr/local/lib/python3.10/dist-packages (from shap) (1.11.4)\n",
            "Requirement already satisfied: scikit-learn in /usr/local/lib/python3.10/dist-packages (from shap) (1.2.2)\n",
            "Requirement already satisfied: pandas in /usr/local/lib/python3.10/dist-packages (from shap) (2.0.3)\n",
            "Requirement already satisfied: tqdm>=4.27.0 in /usr/local/lib/python3.10/dist-packages (from shap) (4.66.4)\n",
            "Requirement already satisfied: packaging>20.9 in /usr/local/lib/python3.10/dist-packages (from shap) (24.0)\n",
            "Collecting slicer==0.0.8 (from shap)\n",
            "  Downloading slicer-0.0.8-py3-none-any.whl (15 kB)\n",
            "Requirement already satisfied: numba in /usr/local/lib/python3.10/dist-packages (from shap) (0.58.1)\n",
            "Requirement already satisfied: cloudpickle in /usr/local/lib/python3.10/dist-packages (from shap) (2.2.1)\n",
            "Requirement already satisfied: llvmlite<0.42,>=0.41.0dev0 in /usr/local/lib/python3.10/dist-packages (from numba->shap) (0.41.1)\n",
            "Requirement already satisfied: python-dateutil>=2.8.2 in /usr/local/lib/python3.10/dist-packages (from pandas->shap) (2.8.2)\n",
            "Requirement already satisfied: pytz>=2020.1 in /usr/local/lib/python3.10/dist-packages (from pandas->shap) (2023.4)\n",
            "Requirement already satisfied: tzdata>=2022.1 in /usr/local/lib/python3.10/dist-packages (from pandas->shap) (2024.1)\n",
            "Requirement already satisfied: joblib>=1.1.1 in /usr/local/lib/python3.10/dist-packages (from scikit-learn->shap) (1.4.2)\n",
            "Requirement already satisfied: threadpoolctl>=2.0.0 in /usr/local/lib/python3.10/dist-packages (from scikit-learn->shap) (3.5.0)\n",
            "Requirement already satisfied: six>=1.5 in /usr/local/lib/python3.10/dist-packages (from python-dateutil>=2.8.2->pandas->shap) (1.16.0)\n",
            "Installing collected packages: slicer, shap\n",
            "Successfully installed shap-0.45.1 slicer-0.0.8\n"
          ]
        }
      ],
      "source": [
        "!pip install shap\n",
        "import shap"
      ]
    },
    {
      "cell_type": "code",
      "execution_count": null,
      "id": "mFaodKi-oPTF",
      "metadata": {
        "colab": {
          "base_uri": "https://localhost:8080/"
        },
        "id": "mFaodKi-oPTF",
        "outputId": "7c5fc110-44e9-4fa3-9cdc-3c62c61f0bec"
      },
      "outputs": [
        {
          "output_type": "stream",
          "name": "stdout",
          "text": [
            "<class 'keras.src.preprocessing.image.DirectoryIterator'>\n"
          ]
        },
        {
          "output_type": "stream",
          "name": "stderr",
          "text": [
            "/usr/local/lib/python3.10/dist-packages/shap/explainers/_deep/deep_tf.py:99: UserWarning: Your TensorFlow version is newer than 2.4.0 and so graph support has been removed in eager mode and some static graphs may not be supported. See PR #1483 for discussion.\n",
            "  warnings.warn(\"Your TensorFlow version is newer than 2.4.0 and so graph support has been removed in eager mode and some static graphs may not be supported. See PR #1483 for discussion.\")\n"
          ]
        }
      ],
      "source": [
        "print(type(test_set))\n",
        "tmp1, tmp2 = next(test_set)\n",
        "background = shap.utils.sample(tmp1, 5)\n",
        "explainer = shap.DeepExplainer(model, background)"
      ]
    },
    {
      "cell_type": "code",
      "execution_count": null,
      "id": "JRqPyuGMorfM",
      "metadata": {
        "id": "JRqPyuGMorfM"
      },
      "outputs": [],
      "source": [
        "# Choose a random sample from the test set to explain (against the background)\n",
        "\n",
        "sample_index = np.random.randint(0, background.shape[0])\n",
        "sample_image = background[sample_index]"
      ]
    },
    {
      "cell_type": "code",
      "execution_count": null,
      "id": "Uwrx_W0No5P6",
      "metadata": {
        "colab": {
          "base_uri": "https://localhost:8080/"
        },
        "id": "Uwrx_W0No5P6",
        "outputId": "5b62d711-8768-47ab-9768-53e338bce575"
      },
      "outputs": [
        {
          "output_type": "stream",
          "name": "stderr",
          "text": [
            "/usr/local/lib/python3.10/dist-packages/keras/src/backend.py:452: UserWarning: `tf.keras.backend.set_learning_phase` is deprecated and will be removed after 2020-10-11. To update it, simply pass a True/False value to the `training` argument of the `__call__` method of your layer or model.\n",
            "  warnings.warn(\n"
          ]
        }
      ],
      "source": [
        "sample_image_batch = np.expand_dims(sample_image, axis=0)  # Add batch dimension\n",
        "shap_values = explainer.shap_values(sample_image_batch)\n",
        "sampled_images_array_scaled = sample_image_batch * 255\n",
        "sampled_images_array_scaled = sampled_images_array_scaled.astype(np.uint8)\n"
      ]
    },
    {
      "cell_type": "code",
      "execution_count": null,
      "id": "4drm1px0o7B5",
      "metadata": {
        "id": "4drm1px0o7B5",
        "colab": {
          "base_uri": "https://localhost:8080/",
          "height": 433
        },
        "outputId": "c01b676b-ccde-4dbf-8a64-81dc2a59c620"
      },
      "outputs": [
        {
          "output_type": "stream",
          "name": "stderr",
          "text": [
            "WARNING:matplotlib.image:Clipping input data to the valid range for imshow with RGB data ([0..1] for floats or [0..255] for integers).\n"
          ]
        },
        {
          "output_type": "display_data",
          "data": {
            "text/plain": [
              "<Figure size 600x500 with 3 Axes>"
            ],
            "image/png": "[encoded data removed]"
          },
          "metadata": {}
        },
        {
          "output_type": "stream",
          "name": "stdout",
          "text": [
            "(1, 64, 64, 3)\n",
            "-0.0002803692186716944\n",
            "0.0004008485993836075\n"
          ]
        }
      ],
      "source": [
        "# Visualize the SHAP values\n",
        "shap.image_plot(shap_values,sampled_images_array_scaled)\n",
        "print(sampled_images_array_scaled.shape)\n",
        "print(np.min(shap_values))\n",
        "print(np.max(shap_values))"
      ]
    },
    {
      "cell_type": "markdown",
      "id": "ntVO-glOv1ff",
      "metadata": {
        "id": "ntVO-glOv1ff"
      },
      "source": [
        "**SmoothGRAD**"
      ]
    },
    {
      "cell_type": "code",
      "execution_count": null,
      "id": "8CGcCrOUv4h9",
      "metadata": {
        "id": "8CGcCrOUv4h9",
        "colab": {
          "base_uri": "https://localhost:8080/",
          "height": 1000
        },
        "outputId": "38d4f2df-d3fb-4dda-e001-2083dc6e543f"
      },
      "outputs": [
        {
          "output_type": "stream",
          "name": "stderr",
          "text": [
            "WARNING:matplotlib.image:Clipping input data to the valid range for imshow with RGB data ([0..1] for floats or [0..255] for integers).\n"
          ]
        },
        {
          "output_type": "stream",
          "name": "stdout",
          "text": [
            "perturbed_image_batch: \n",
            " (1, 64, 64, 3) \n",
            "\n"
          ]
        },
        {
          "output_type": "display_data",
          "data": {
            "text/plain": [
              "<Figure size 600x500 with 3 Axes>"
            ],
            "image/png": "[encoded data removed]"
          },
          "metadata": {}
        },
        {
          "output_type": "stream",
          "name": "stderr",
          "text": [
            "WARNING:matplotlib.image:Clipping input data to the valid range for imshow with RGB data ([0..1] for floats or [0..255] for integers).\n"
          ]
        },
        {
          "output_type": "stream",
          "name": "stdout",
          "text": [
            "perturbed_image_batch: \n",
            " (1, 64, 64, 3) \n",
            "\n"
          ]
        },
        {
          "output_type": "display_data",
          "data": {
            "text/plain": [
              "<Figure size 600x500 with 3 Axes>"
            ],
            "image/png": "[encoded data removed]"
          },
          "metadata": {}
        },
        {
          "output_type": "stream",
          "name": "stderr",
          "text": [
            "WARNING:matplotlib.image:Clipping input data to the valid range for imshow with RGB data ([0..1] for floats or [0..255] for integers).\n"
          ]
        },
        {
          "output_type": "stream",
          "name": "stdout",
          "text": [
            "perturbed_image_batch: \n",
            " (1, 64, 64, 3) \n",
            "\n"
          ]
        },
        {
          "output_type": "display_data",
          "data": {
            "text/plain": [
              "<Figure size 600x500 with 3 Axes>"
            ],
            "image/png": "[encoded data removed]"
          },
          "metadata": {}
        },
        {
          "output_type": "stream",
          "name": "stderr",
          "text": [
            "WARNING:matplotlib.image:Clipping input data to the valid range for imshow with RGB data ([0..1] for floats or [0..255] for integers).\n"
          ]
        },
        {
          "output_type": "stream",
          "name": "stdout",
          "text": [
            "perturbed_image_batch: \n",
            " (1, 64, 64, 3) \n",
            "\n"
          ]
        },
        {
          "output_type": "display_data",
          "data": {
            "text/plain": [
              "<Figure size 600x500 with 3 Axes>"
            ],
            "image/png": "[encoded data removed]"
          },
          "metadata": {}
        },
        {
          "output_type": "stream",
          "name": "stderr",
          "text": [
            "WARNING:matplotlib.image:Clipping input data to the valid range for imshow with RGB data ([0..1] for floats or [0..255] for integers).\n"
          ]
        },
        {
          "output_type": "stream",
          "name": "stdout",
          "text": [
            "perturbed_image_batch: \n",
            " (1, 64, 64, 3) \n",
            "\n"
          ]
        },
        {
          "output_type": "display_data",
          "data": {
            "text/plain": [
              "<Figure size 600x500 with 3 Axes>"
            ],
            "image/png": "[encoded data removed]"
          },
          "metadata": {}
        },
        {
          "output_type": "stream",
          "name": "stderr",
          "text": [
            "WARNING:matplotlib.image:Clipping input data to the valid range for imshow with RGB data ([0..1] for floats or [0..255] for integers).\n"
          ]
        },
        {
          "output_type": "stream",
          "name": "stdout",
          "text": [
            "perturbed_image_batch: \n",
            " (1, 64, 64, 3) \n",
            "\n"
          ]
        },
        {
          "output_type": "display_data",
          "data": {
            "text/plain": [
              "<Figure size 600x500 with 3 Axes>"
            ],
            "image/png": "[encoded data removed]"
          },
          "metadata": {}
        },
        {
          "output_type": "stream",
          "name": "stdout",
          "text": [
            "perturbed_image_batch: \n",
            " (1, 64, 64, 3) \n",
            "\n"
          ]
        },
        {
          "output_type": "stream",
          "name": "stderr",
          "text": [
            "WARNING:matplotlib.image:Clipping input data to the valid range for imshow with RGB data ([0..1] for floats or [0..255] for integers).\n"
          ]
        },
        {
          "output_type": "display_data",
          "data": {
            "text/plain": [
              "<Figure size 600x500 with 3 Axes>"
            ],
            "image/png": "[encoded data removed]"
          },
          "metadata": {}
        },
        {
          "output_type": "stream",
          "name": "stderr",
          "text": [
            "WARNING:matplotlib.image:Clipping input data to the valid range for imshow with RGB data ([0..1] for floats or [0..255] for integers).\n"
          ]
        },
        {
          "output_type": "stream",
          "name": "stdout",
          "text": [
            "perturbed_image_batch: \n",
            " (1, 64, 64, 3) \n",
            "\n"
          ]
        },
        {
          "output_type": "display_data",
          "data": {
            "text/plain": [
              "<Figure size 600x500 with 3 Axes>"
            ],
            "image/png": "[encoded data removed]"
          },
          "metadata": {}
        },
        {
          "output_type": "stream",
          "name": "stderr",
          "text": [
            "WARNING:matplotlib.image:Clipping input data to the valid range for imshow with RGB data ([0..1] for floats or [0..255] for integers).\n"
          ]
        },
        {
          "output_type": "stream",
          "name": "stdout",
          "text": [
            "perturbed_image_batch: \n",
            " (1, 64, 64, 3) \n",
            "\n"
          ]
        },
        {
          "output_type": "display_data",
          "data": {
            "text/plain": [
              "<Figure size 600x500 with 3 Axes>"
            ],
            "image/png": "[encoded data removed]"
          },
          "metadata": {}
        },
        {
          "output_type": "stream",
          "name": "stderr",
          "text": [
            "WARNING:matplotlib.image:Clipping input data to the valid range for imshow with RGB data ([0..1] for floats or [0..255] for integers).\n"
          ]
        },
        {
          "output_type": "stream",
          "name": "stdout",
          "text": [
            "perturbed_image_batch: \n",
            " (1, 64, 64, 3) \n",
            "\n"
          ]
        },
        {
          "output_type": "display_data",
          "data": {
            "text/plain": [
              "<Figure size 600x500 with 3 Axes>"
            ],
            "image/png": "[encoded data removed]"
          },
          "metadata": {}
        }
      ],
      "source": [
        "NUM_ITERATIONS = 10 # equal to number of images that we wish to generate\n",
        "shap_values_list = []\n",
        "for _ in range(NUM_ITERATIONS):\n",
        "    perturbed_image = sampled_images_array_scaled + np.random.normal(loc=0, scale=0.1, size=sampled_images_array_scaled.shape)\n",
        "    perturbed_image = np.clip(perturbed_image, 0, 1)\n",
        "    perturbed_image_batch = perturbed_image\n",
        "    print(\"perturbed_image_batch: \\n\", perturbed_image_batch.shape, \"\\n\")\n",
        "    shap_values = explainer.shap_values(perturbed_image_batch)\n",
        "    shap.image_plot(shap_values, perturbed_image_batch)\n",
        "    shap_values_list.append(shap_values)\n",
        "\n",
        "#print(shap_values_list[0])"
      ]
    },
    {
      "cell_type": "code",
      "execution_count": null,
      "id": "EsYNjziSwEps",
      "metadata": {
        "id": "EsYNjziSwEps",
        "colab": {
          "base_uri": "https://localhost:8080/"
        },
        "outputId": "14511be3-67e2-46d4-a54e-702c8b791804"
      },
      "outputs": [
        {
          "output_type": "stream",
          "name": "stdout",
          "text": [
            "Collecting lime\n",
            "  Downloading lime-0.2.0.1.tar.gz (275 kB)\n",
            "\u001b[2K     \u001b[90m━━━━━━━━━━━━━━━━━━━━━━━━━━━━━━━━━━━━━━━━\u001b[0m \u001b[32m275.7/275.7 kB\u001b[0m \u001b[31m5.2 MB/s\u001b[0m eta \u001b[36m0:00:00\u001b[0m\n",
            "\u001b[?25h  Preparing metadata (setup.py) ... \u001b[?25l\u001b[?25hdone\n",
            "Requirement already satisfied: matplotlib in /usr/local/lib/python3.10/dist-packages (from lime) (3.7.1)\n",
            "Requirement already satisfied: numpy in /usr/local/lib/python3.10/dist-packages (from lime) (1.25.2)\n",
            "Requirement already satisfied: scipy in /usr/local/lib/python3.10/dist-packages (from lime) (1.11.4)\n",
            "Requirement already satisfied: tqdm in /usr/local/lib/python3.10/dist-packages (from lime) (4.66.4)\n",
            "Requirement already satisfied: scikit-learn>=0.18 in /usr/local/lib/python3.10/dist-packages (from lime) (1.2.2)\n",
            "Requirement already satisfied: scikit-image>=0.12 in /usr/local/lib/python3.10/dist-packages (from lime) (0.19.3)\n",
            "Requirement already satisfied: networkx>=2.2 in /usr/local/lib/python3.10/dist-packages (from scikit-image>=0.12->lime) (3.3)\n",
            "Requirement already satisfied: pillow!=7.1.0,!=7.1.1,!=8.3.0,>=6.1.0 in /usr/local/lib/python3.10/dist-packages (from scikit-image>=0.12->lime) (9.4.0)\n",
            "Requirement already satisfied: imageio>=2.4.1 in /usr/local/lib/python3.10/dist-packages (from scikit-image>=0.12->lime) (2.31.6)\n",
            "Requirement already satisfied: tifffile>=2019.7.26 in /usr/local/lib/python3.10/dist-packages (from scikit-image>=0.12->lime) (2024.5.22)\n",
            "Requirement already satisfied: PyWavelets>=1.1.1 in /usr/local/lib/python3.10/dist-packages (from scikit-image>=0.12->lime) (1.6.0)\n",
            "Requirement already satisfied: packaging>=20.0 in /usr/local/lib/python3.10/dist-packages (from scikit-image>=0.12->lime) (24.0)\n",
            "Requirement already satisfied: joblib>=1.1.1 in /usr/local/lib/python3.10/dist-packages (from scikit-learn>=0.18->lime) (1.4.2)\n",
            "Requirement already satisfied: threadpoolctl>=2.0.0 in /usr/local/lib/python3.10/dist-packages (from scikit-learn>=0.18->lime) (3.5.0)\n",
            "Requirement already satisfied: contourpy>=1.0.1 in /usr/local/lib/python3.10/dist-packages (from matplotlib->lime) (1.2.1)\n",
            "Requirement already satisfied: cycler>=0.10 in /usr/local/lib/python3.10/dist-packages (from matplotlib->lime) (0.12.1)\n",
            "Requirement already satisfied: fonttools>=4.22.0 in /usr/local/lib/python3.10/dist-packages (from matplotlib->lime) (4.52.4)\n",
            "Requirement already satisfied: kiwisolver>=1.0.1 in /usr/local/lib/python3.10/dist-packages (from matplotlib->lime) (1.4.5)\n",
            "Requirement already satisfied: pyparsing>=2.3.1 in /usr/local/lib/python3.10/dist-packages (from matplotlib->lime) (3.1.2)\n",
            "Requirement already satisfied: python-dateutil>=2.7 in /usr/local/lib/python3.10/dist-packages (from matplotlib->lime) (2.8.2)\n",
            "Requirement already satisfied: six>=1.5 in /usr/local/lib/python3.10/dist-packages (from python-dateutil>=2.7->matplotlib->lime) (1.16.0)\n",
            "Building wheels for collected packages: lime\n",
            "  Building wheel for lime (setup.py) ... \u001b[?25l\u001b[?25hdone\n",
            "  Created wheel for lime: filename=lime-0.2.0.1-py3-none-any.whl size=283835 sha256=3a91f107efd12f124e21d0beb0d51505a743eff4d3f30f532023c45a9514a5a5\n",
            "  Stored in directory: /root/.cache/pip/wheels/fd/a2/af/9ac0a1a85a27f314a06b39e1f492bee1547d52549a4606ed89\n",
            "Successfully built lime\n",
            "Installing collected packages: lime\n",
            "Successfully installed lime-0.2.0.1\n"
          ]
        }
      ],
      "source": [
        "!pip install lime\n",
        "import lime\n",
        "from lime import lime_image"
      ]
    },
    {
      "cell_type": "code",
      "execution_count": null,
      "id": "jCLlk4rqwnAO",
      "metadata": {
        "id": "jCLlk4rqwnAO",
        "colab": {
          "base_uri": "https://localhost:8080/"
        },
        "outputId": "53752834-665e-4c0c-d838-66edd788e10e"
      },
      "outputs": [
        {
          "output_type": "stream",
          "name": "stdout",
          "text": [
            "Requirement already satisfied: lime in /usr/local/lib/python3.10/dist-packages (0.2.0.1)\n",
            "Requirement already satisfied: shap in /usr/local/lib/python3.10/dist-packages (0.45.1)\n",
            "Requirement already satisfied: matplotlib in /usr/local/lib/python3.10/dist-packages (from lime) (3.7.1)\n",
            "Requirement already satisfied: numpy in /usr/local/lib/python3.10/dist-packages (from lime) (1.25.2)\n",
            "Requirement already satisfied: scipy in /usr/local/lib/python3.10/dist-packages (from lime) (1.11.4)\n",
            "Requirement already satisfied: tqdm in /usr/local/lib/python3.10/dist-packages (from lime) (4.66.4)\n",
            "Requirement already satisfied: scikit-learn>=0.18 in /usr/local/lib/python3.10/dist-packages (from lime) (1.2.2)\n",
            "Requirement already satisfied: scikit-image>=0.12 in /usr/local/lib/python3.10/dist-packages (from lime) (0.19.3)\n",
            "Requirement already satisfied: pandas in /usr/local/lib/python3.10/dist-packages (from shap) (2.0.3)\n",
            "Requirement already satisfied: packaging>20.9 in /usr/local/lib/python3.10/dist-packages (from shap) (24.0)\n",
            "Requirement already satisfied: slicer==0.0.8 in /usr/local/lib/python3.10/dist-packages (from shap) (0.0.8)\n",
            "Requirement already satisfied: numba in /usr/local/lib/python3.10/dist-packages (from shap) (0.58.1)\n",
            "Requirement already satisfied: cloudpickle in /usr/local/lib/python3.10/dist-packages (from shap) (2.2.1)\n",
            "Requirement already satisfied: networkx>=2.2 in /usr/local/lib/python3.10/dist-packages (from scikit-image>=0.12->lime) (3.3)\n",
            "Requirement already satisfied: pillow!=7.1.0,!=7.1.1,!=8.3.0,>=6.1.0 in /usr/local/lib/python3.10/dist-packages (from scikit-image>=0.12->lime) (9.4.0)\n",
            "Requirement already satisfied: imageio>=2.4.1 in /usr/local/lib/python3.10/dist-packages (from scikit-image>=0.12->lime) (2.31.6)\n",
            "Requirement already satisfied: tifffile>=2019.7.26 in /usr/local/lib/python3.10/dist-packages (from scikit-image>=0.12->lime) (2024.5.22)\n",
            "Requirement already satisfied: PyWavelets>=1.1.1 in /usr/local/lib/python3.10/dist-packages (from scikit-image>=0.12->lime) (1.6.0)\n",
            "Requirement already satisfied: joblib>=1.1.1 in /usr/local/lib/python3.10/dist-packages (from scikit-learn>=0.18->lime) (1.4.2)\n",
            "Requirement already satisfied: threadpoolctl>=2.0.0 in /usr/local/lib/python3.10/dist-packages (from scikit-learn>=0.18->lime) (3.5.0)\n",
            "Requirement already satisfied: contourpy>=1.0.1 in /usr/local/lib/python3.10/dist-packages (from matplotlib->lime) (1.2.1)\n",
            "Requirement already satisfied: cycler>=0.10 in /usr/local/lib/python3.10/dist-packages (from matplotlib->lime) (0.12.1)\n",
            "Requirement already satisfied: fonttools>=4.22.0 in /usr/local/lib/python3.10/dist-packages (from matplotlib->lime) (4.52.4)\n",
            "Requirement already satisfied: kiwisolver>=1.0.1 in /usr/local/lib/python3.10/dist-packages (from matplotlib->lime) (1.4.5)\n",
            "Requirement already satisfied: pyparsing>=2.3.1 in /usr/local/lib/python3.10/dist-packages (from matplotlib->lime) (3.1.2)\n",
            "Requirement already satisfied: python-dateutil>=2.7 in /usr/local/lib/python3.10/dist-packages (from matplotlib->lime) (2.8.2)\n",
            "Requirement already satisfied: llvmlite<0.42,>=0.41.0dev0 in /usr/local/lib/python3.10/dist-packages (from numba->shap) (0.41.1)\n",
            "Requirement already satisfied: pytz>=2020.1 in /usr/local/lib/python3.10/dist-packages (from pandas->shap) (2023.4)\n",
            "Requirement already satisfied: tzdata>=2022.1 in /usr/local/lib/python3.10/dist-packages (from pandas->shap) (2024.1)\n",
            "Requirement already satisfied: six>=1.5 in /usr/local/lib/python3.10/dist-packages (from python-dateutil>=2.7->matplotlib->lime) (1.16.0)\n"
          ]
        }
      ],
      "source": [
        "!pip install lime shap\n",
        "#import lime\n",
        "#import lime.lime_image\n",
        "import shap\n",
        "from skimage.segmentation import mark_boundaries"
      ]
    },
    {
      "cell_type": "code",
      "execution_count": null,
      "id": "5kpdGTk7wMUs",
      "metadata": {
        "id": "5kpdGTk7wMUs",
        "colab": {
          "base_uri": "https://localhost:8080/",
          "height": 1000,
          "referenced_widgets": [
            "e4d3d63a3aa04794bf0c7a2773a2d356",
            "1ddce657182d4af0bd16b47416800f4b",
            "314bc427e35845baa36be4037af2420b",
            "973c7be9b8c74b5d8b5c3315b9bdf73c",
            "88a61cee9af74040999f6af92d73e881",
            "0dd91df4457f47759c2fad11fd4b195d",
            "a4c256a56cd64538a9bf1f2b2ca8a7b6",
            "76c92b75b831450fb0d2cd21ff4ae21e",
            "033dfcb79ccc46d3b3c6fc91e5b03ae6",
            "7643c294215941d5ab775096541669f3",
            "46e58e04986c4eeb8980632e67870e6b"
          ]
        },
        "outputId": "529fafab-60f3-44ca-d0d7-c7f7be1d8b46"
      },
      "outputs": [
        {
          "output_type": "display_data",
          "data": {
            "text/plain": [
              "  0%|          | 0/1000 [00:00<?, ?it/s]"
            ],
            "application/vnd.jupyter.widget-view+json": {
              "version_major": 2,
              "version_minor": 0,
              "model_id": "e4d3d63a3aa04794bf0c7a2773a2d356"
            }
          },
          "metadata": {}
        },
        {
          "output_type": "stream",
          "name": "stdout",
          "text": [
            "1/1 [==============================] - 0s 138ms/step\n",
            "1/1 [==============================] - 0s 202ms/step\n",
            "1/1 [==============================] - 0s 106ms/step\n",
            "1/1 [==============================] - 0s 89ms/step\n",
            "1/1 [==============================] - 0s 82ms/step\n",
            "1/1 [==============================] - 0s 66ms/step\n",
            "1/1 [==============================] - 0s 59ms/step\n",
            "1/1 [==============================] - 0s 70ms/step\n",
            "1/1 [==============================] - 0s 61ms/step\n",
            "1/1 [==============================] - 0s 64ms/step\n",
            "1/1 [==============================] - 0s 76ms/step\n",
            "1/1 [==============================] - 0s 66ms/step\n",
            "1/1 [==============================] - 0s 57ms/step\n",
            "1/1 [==============================] - 0s 107ms/step\n",
            "1/1 [==============================] - 0s 112ms/step\n",
            "1/1 [==============================] - 0s 85ms/step\n",
            "1/1 [==============================] - 0s 60ms/step\n",
            "1/1 [==============================] - 0s 63ms/step\n",
            "1/1 [==============================] - 0s 60ms/step\n",
            "1/1 [==============================] - 0s 55ms/step\n",
            "1/1 [==============================] - 0s 36ms/step\n",
            "1/1 [==============================] - 0s 35ms/step\n",
            "1/1 [==============================] - 0s 45ms/step\n",
            "1/1 [==============================] - 0s 39ms/step\n",
            "1/1 [==============================] - 0s 37ms/step\n",
            "1/1 [==============================] - 0s 41ms/step\n",
            "1/1 [==============================] - 0s 37ms/step\n",
            "1/1 [==============================] - 0s 40ms/step\n",
            "1/1 [==============================] - 0s 37ms/step\n",
            "1/1 [==============================] - 0s 40ms/step\n",
            "1/1 [==============================] - 0s 36ms/step\n",
            "1/1 [==============================] - 0s 38ms/step\n",
            "1/1 [==============================] - 0s 43ms/step\n",
            "1/1 [==============================] - 0s 56ms/step\n",
            "1/1 [==============================] - 0s 65ms/step\n",
            "1/1 [==============================] - 0s 62ms/step\n",
            "1/1 [==============================] - 0s 58ms/step\n",
            "1/1 [==============================] - 0s 60ms/step\n",
            "1/1 [==============================] - 0s 52ms/step\n",
            "1/1 [==============================] - 0s 60ms/step\n",
            "1/1 [==============================] - 0s 94ms/step\n",
            "1/1 [==============================] - 0s 80ms/step\n",
            "1/1 [==============================] - 0s 56ms/step\n",
            "1/1 [==============================] - 0s 79ms/step\n",
            "1/1 [==============================] - 0s 99ms/step\n",
            "1/1 [==============================] - 0s 62ms/step\n",
            "1/1 [==============================] - 0s 83ms/step\n",
            "1/1 [==============================] - 0s 68ms/step\n",
            "1/1 [==============================] - 0s 77ms/step\n",
            "1/1 [==============================] - 0s 108ms/step\n",
            "1/1 [==============================] - 0s 63ms/step\n",
            "1/1 [==============================] - 0s 89ms/step\n",
            "1/1 [==============================] - 0s 66ms/step\n",
            "1/1 [==============================] - 0s 74ms/step\n",
            "1/1 [==============================] - 0s 93ms/step\n",
            "1/1 [==============================] - 0s 60ms/step\n",
            "1/1 [==============================] - 0s 62ms/step\n",
            "1/1 [==============================] - 0s 94ms/step\n",
            "1/1 [==============================] - 0s 73ms/step\n",
            "1/1 [==============================] - 0s 118ms/step\n",
            "1/1 [==============================] - 0s 61ms/step\n",
            "1/1 [==============================] - 0s 122ms/step\n",
            "1/1 [==============================] - 0s 83ms/step\n",
            "1/1 [==============================] - 0s 93ms/step\n",
            "1/1 [==============================] - 0s 57ms/step\n",
            "1/1 [==============================] - 0s 63ms/step\n",
            "1/1 [==============================] - 0s 76ms/step\n",
            "1/1 [==============================] - 0s 91ms/step\n",
            "1/1 [==============================] - 0s 156ms/step\n",
            "1/1 [==============================] - 0s 188ms/step\n",
            "1/1 [==============================] - 0s 138ms/step\n",
            "1/1 [==============================] - 0s 223ms/step\n",
            "1/1 [==============================] - 0s 205ms/step\n",
            "1/1 [==============================] - 0s 154ms/step\n",
            "1/1 [==============================] - 0s 120ms/step\n",
            "1/1 [==============================] - 0s 162ms/step\n",
            "1/1 [==============================] - 0s 154ms/step\n",
            "1/1 [==============================] - 0s 132ms/step\n",
            "1/1 [==============================] - 0s 71ms/step\n",
            "1/1 [==============================] - 0s 62ms/step\n",
            "1/1 [==============================] - 0s 106ms/step\n",
            "1/1 [==============================] - 0s 122ms/step\n",
            "1/1 [==============================] - 0s 195ms/step\n",
            "1/1 [==============================] - 0s 181ms/step\n",
            "1/1 [==============================] - 0s 190ms/step\n",
            "1/1 [==============================] - 0s 140ms/step\n",
            "1/1 [==============================] - 0s 155ms/step\n",
            "1/1 [==============================] - 0s 135ms/step\n",
            "1/1 [==============================] - 0s 88ms/step\n",
            "1/1 [==============================] - 0s 85ms/step\n",
            "1/1 [==============================] - 0s 67ms/step\n",
            "1/1 [==============================] - 0s 111ms/step\n",
            "1/1 [==============================] - 0s 85ms/step\n",
            "1/1 [==============================] - 0s 90ms/step\n",
            "1/1 [==============================] - 0s 114ms/step\n",
            "1/1 [==============================] - 0s 108ms/step\n",
            "1/1 [==============================] - 0s 70ms/step\n",
            "1/1 [==============================] - 0s 70ms/step\n",
            "1/1 [==============================] - 0s 76ms/step\n",
            "1/1 [==============================] - 0s 112ms/step\n"
          ]
        }
      ],
      "source": [
        "explainer = lime_image.LimeImageExplainer()\n",
        "explanation = explainer.explain_instance(background[sample_index].astype('double'), model.predict, hide_color=0, num_samples=1000)"
      ]
    },
    {
      "cell_type": "code",
      "execution_count": null,
      "id": "vIrZ9u8-wWE1",
      "metadata": {
        "id": "vIrZ9u8-wWE1",
        "colab": {
          "base_uri": "https://localhost:8080/",
          "height": 428
        },
        "outputId": "dcbd0152-b13d-42cd-c58f-4a584ed060b6"
      },
      "outputs": [
        {
          "output_type": "display_data",
          "data": {
            "text/plain": [
              "<Figure size 640x480 with 1 Axes>"
            ],
            "image/png": "[encoded data removed]"
          },
          "metadata": {}
        }
      ],
      "source": [
        "import matplotlib.pyplot as plt\n",
        "plt.imshow(background[sample_index])\n",
        "plt.title('Original Image')\n",
        "plt.axis('off')\n",
        "plt.show()"
      ]
    },
    {
      "cell_type": "code",
      "execution_count": null,
      "id": "ViJPj3QnwWxi",
      "metadata": {
        "id": "ViJPj3QnwWxi",
        "colab": {
          "base_uri": "https://localhost:8080/",
          "height": 452
        },
        "outputId": "b327d7a8-7ea7-4d15-a1dd-fc64a3d91930"
      },
      "outputs": [
        {
          "output_type": "display_data",
          "data": {
            "text/plain": [
              "<Figure size 640x480 with 1 Axes>"
            ],
            "image/png": "[encoded data removed]"
          },
          "metadata": {}
        }
      ],
      "source": [
        "temp, mask = explanation.get_image_and_mask(explanation.top_labels[0], positive_only=True, num_features=5, hide_rest=False)\n",
        "plt.imshow(mark_boundaries(temp, mask))\n",
        "plt.title(\"LIME Explanation\")\n",
        "plt.show()"
      ]
    },
    {
      "cell_type": "code",
      "execution_count": null,
      "id": "0Z0L0AOvckFg",
      "metadata": {
        "id": "0Z0L0AOvckFg"
      },
      "outputs": [],
      "source": [
        "tf.__version__"
      ]
    },
    {
      "cell_type": "code",
      "execution_count": null,
      "id": "S2XQDgTLDD32",
      "metadata": {
        "id": "S2XQDgTLDD32"
      },
      "outputs": [],
      "source": [
        "shap.__version__"
      ]
    },
    {
      "cell_type": "code",
      "execution_count": null,
      "id": "jGmR6IELDYxw",
      "metadata": {
        "id": "jGmR6IELDYxw"
      },
      "outputs": [],
      "source": []
    }
  ],
  "metadata": {
    "accelerator": "GPU",
    "colab": {
      "gpuType": "T4",
      "provenance": [],
      "include_colab_link": true
    },
    "kernelspec": {
      "display_name": "Python 3",
      "name": "python3"
    },
    "language_info": {
      "codemirror_mode": {
        "name": "ipython",
        "version": 3
      },
      "file_extension": ".py",
      "mimetype": "text/x-python",
      "name": "python",
      "nbconvert_exporter": "python",
      "pygments_lexer": "ipython3",
      "version": "3.8.8"
    },
    "widgets": {
      "application/vnd.jupyter.widget-state+json": {
        "e4d3d63a3aa04794bf0c7a2773a2d356": {
          "model_module": "@jupyter-widgets/controls",
          "model_name": "HBoxModel",
          "model_module_version": "1.5.0",
          "state": {
            "_dom_classes": [],
            "_model_module": "@jupyter-widgets/controls",
            "_model_module_version": "1.5.0",
            "_model_name": "HBoxModel",
            "_view_count": null,
            "_view_module": "@jupyter-widgets/controls",
            "_view_module_version": "1.5.0",
            "_view_name": "HBoxView",
            "box_style": "",
            "children": [
              "IPY_MODEL_1ddce657182d4af0bd16b47416800f4b",
              "IPY_MODEL_314bc427e35845baa36be4037af2420b",
              "IPY_MODEL_973c7be9b8c74b5d8b5c3315b9bdf73c"
            ],
            "layout": "IPY_MODEL_88a61cee9af74040999f6af92d73e881"
          }
        },
        "1ddce657182d4af0bd16b47416800f4b": {
          "model_module": "@jupyter-widgets/controls",
          "model_name": "HTMLModel",
          "model_module_version": "1.5.0",
          "state": {
            "_dom_classes": [],
            "_model_module": "@jupyter-widgets/controls",
            "_model_module_version": "1.5.0",
            "_model_name": "HTMLModel",
            "_view_count": null,
            "_view_module": "@jupyter-widgets/controls",
            "_view_module_version": "1.5.0",
            "_view_name": "HTMLView",
            "description": "",
            "description_tooltip": null,
            "layout": "IPY_MODEL_0dd91df4457f47759c2fad11fd4b195d",
            "placeholder": "​",
            "style": "IPY_MODEL_a4c256a56cd64538a9bf1f2b2ca8a7b6",
            "value": "100%"
          }
        },
        "314bc427e35845baa36be4037af2420b": {
          "model_module": "@jupyter-widgets/controls",
          "model_name": "FloatProgressModel",
          "model_module_version": "1.5.0",
          "state": {
            "_dom_classes": [],
            "_model_module": "@jupyter-widgets/controls",
            "_model_module_version": "1.5.0",
            "_model_name": "FloatProgressModel",
            "_view_count": null,
            "_view_module": "@jupyter-widgets/controls",
            "_view_module_version": "1.5.0",
            "_view_name": "ProgressView",
            "bar_style": "success",
            "description": "",
            "description_tooltip": null,
            "layout": "IPY_MODEL_76c92b75b831450fb0d2cd21ff4ae21e",
            "max": 1000,
            "min": 0,
            "orientation": "horizontal",
            "style": "IPY_MODEL_033dfcb79ccc46d3b3c6fc91e5b03ae6",
            "value": 1000
          }
        },
        "973c7be9b8c74b5d8b5c3315b9bdf73c": {
          "model_module": "@jupyter-widgets/controls",
          "model_name": "HTMLModel",
          "model_module_version": "1.5.0",
          "state": {
            "_dom_classes": [],
            "_model_module": "@jupyter-widgets/controls",
            "_model_module_version": "1.5.0",
            "_model_name": "HTMLModel",
            "_view_count": null,
            "_view_module": "@jupyter-widgets/controls",
            "_view_module_version": "1.5.0",
            "_view_name": "HTMLView",
            "description": "",
            "description_tooltip": null,
            "layout": "IPY_MODEL_7643c294215941d5ab775096541669f3",
            "placeholder": "​",
            "style": "IPY_MODEL_46e58e04986c4eeb8980632e67870e6b",
            "value": " 1000/1000 [00:23&lt;00:00, 44.44it/s]"
          }
        },
        "88a61cee9af74040999f6af92d73e881": {
          "model_module": "@jupyter-widgets/base",
          "model_name": "LayoutModel",
          "model_module_version": "1.2.0",
          "state": {
            "_model_module": "@jupyter-widgets/base",
            "_model_module_version": "1.2.0",
            "_model_name": "LayoutModel",
            "_view_count": null,
            "_view_module": "@jupyter-widgets/base",
            "_view_module_version": "1.2.0",
            "_view_name": "LayoutView",
            "align_content": null,
            "align_items": null,
            "align_self": null,
            "border": null,
            "bottom": null,
            "display": null,
            "flex": null,
            "flex_flow": null,
            "grid_area": null,
            "grid_auto_columns": null,
            "grid_auto_flow": null,
            "grid_auto_rows": null,
            "grid_column": null,
            "grid_gap": null,
            "grid_row": null,
            "grid_template_areas": null,
            "grid_template_columns": null,
            "grid_template_rows": null,
            "height": null,
            "justify_content": null,
            "justify_items": null,
            "left": null,
            "margin": null,
            "max_height": null,
            "max_width": null,
            "min_height": null,
            "min_width": null,
            "object_fit": null,
            "object_position": null,
            "order": null,
            "overflow": null,
            "overflow_x": null,
            "overflow_y": null,
            "padding": null,
            "right": null,
            "top": null,
            "visibility": null,
            "width": null
          }
        },
        "0dd91df4457f47759c2fad11fd4b195d": {
          "model_module": "@jupyter-widgets/base",
          "model_name": "LayoutModel",
          "model_module_version": "1.2.0",
          "state": {
            "_model_module": "@jupyter-widgets/base",
            "_model_module_version": "1.2.0",
            "_model_name": "LayoutModel",
            "_view_count": null,
            "_view_module": "@jupyter-widgets/base",
            "_view_module_version": "1.2.0",
            "_view_name": "LayoutView",
            "align_content": null,
            "align_items": null,
            "align_self": null,
            "border": null,
            "bottom": null,
            "display": null,
            "flex": null,
            "flex_flow": null,
            "grid_area": null,
            "grid_auto_columns": null,
            "grid_auto_flow": null,
            "grid_auto_rows": null,
            "grid_column": null,
            "grid_gap": null,
            "grid_row": null,
            "grid_template_areas": null,
            "grid_template_columns": null,
            "grid_template_rows": null,
            "height": null,
            "justify_content": null,
            "justify_items": null,
            "left": null,
            "margin": null,
            "max_height": null,
            "max_width": null,
            "min_height": null,
            "min_width": null,
            "object_fit": null,
            "object_position": null,
            "order": null,
            "overflow": null,
            "overflow_x": null,
            "overflow_y": null,
            "padding": null,
            "right": null,
            "top": null,
            "visibility": null,
            "width": null
          }
        },
        "a4c256a56cd64538a9bf1f2b2ca8a7b6": {
          "model_module": "@jupyter-widgets/controls",
          "model_name": "DescriptionStyleModel",
          "model_module_version": "1.5.0",
          "state": {
            "_model_module": "@jupyter-widgets/controls",
            "_model_module_version": "1.5.0",
            "_model_name": "DescriptionStyleModel",
            "_view_count": null,
            "_view_module": "@jupyter-widgets/base",
            "_view_module_version": "1.2.0",
            "_view_name": "StyleView",
            "description_width": ""
          }
        },
        "76c92b75b831450fb0d2cd21ff4ae21e": {
          "model_module": "@jupyter-widgets/base",
          "model_name": "LayoutModel",
          "model_module_version": "1.2.0",
          "state": {
            "_model_module": "@jupyter-widgets/base",
            "_model_module_version": "1.2.0",
            "_model_name": "LayoutModel",
            "_view_count": null,
            "_view_module": "@jupyter-widgets/base",
            "_view_module_version": "1.2.0",
            "_view_name": "LayoutView",
            "align_content": null,
            "align_items": null,
            "align_self": null,
            "border": null,
            "bottom": null,
            "display": null,
            "flex": null,
            "flex_flow": null,
            "grid_area": null,
            "grid_auto_columns": null,
            "grid_auto_flow": null,
            "grid_auto_rows": null,
            "grid_column": null,
            "grid_gap": null,
            "grid_row": null,
            "grid_template_areas": null,
            "grid_template_columns": null,
            "grid_template_rows": null,
            "height": null,
            "justify_content": null,
            "justify_items": null,
            "left": null,
            "margin": null,
            "max_height": null,
            "max_width": null,
            "min_height": null,
            "min_width": null,
            "object_fit": null,
            "object_position": null,
            "order": null,
            "overflow": null,
            "overflow_x": null,
            "overflow_y": null,
            "padding": null,
            "right": null,
            "top": null,
            "visibility": null,
            "width": null
          }
        },
        "033dfcb79ccc46d3b3c6fc91e5b03ae6": {
          "model_module": "@jupyter-widgets/controls",
          "model_name": "ProgressStyleModel",
          "model_module_version": "1.5.0",
          "state": {
            "_model_module": "@jupyter-widgets/controls",
            "_model_module_version": "1.5.0",
            "_model_name": "ProgressStyleModel",
            "_view_count": null,
            "_view_module": "@jupyter-widgets/base",
            "_view_module_version": "1.2.0",
            "_view_name": "StyleView",
            "bar_color": null,
            "description_width": ""
          }
        },
        "7643c294215941d5ab775096541669f3": {
          "model_module": "@jupyter-widgets/base",
          "model_name": "LayoutModel",
          "model_module_version": "1.2.0",
          "state": {
            "_model_module": "@jupyter-widgets/base",
            "_model_module_version": "1.2.0",
            "_model_name": "LayoutModel",
            "_view_count": null,
            "_view_module": "@jupyter-widgets/base",
            "_view_module_version": "1.2.0",
            "_view_name": "LayoutView",
            "align_content": null,
            "align_items": null,
            "align_self": null,
            "border": null,
            "bottom": null,
            "display": null,
            "flex": null,
            "flex_flow": null,
            "grid_area": null,
            "grid_auto_columns": null,
            "grid_auto_flow": null,
            "grid_auto_rows": null,
            "grid_column": null,
            "grid_gap": null,
            "grid_row": null,
            "grid_template_areas": null,
            "grid_template_columns": null,
            "grid_template_rows": null,
            "height": null,
            "justify_content": null,
            "justify_items": null,
            "left": null,
            "margin": null,
            "max_height": null,
            "max_width": null,
            "min_height": null,
            "min_width": null,
            "object_fit": null,
            "object_position": null,
            "order": null,
            "overflow": null,
            "overflow_x": null,
            "overflow_y": null,
            "padding": null,
            "right": null,
            "top": null,
            "visibility": null,
            "width": null
          }
        },
        "46e58e04986c4eeb8980632e67870e6b": {
          "model_module": "@jupyter-widgets/controls",
          "model_name": "DescriptionStyleModel",
          "model_module_version": "1.5.0",
          "state": {
            "_model_module": "@jupyter-widgets/controls",
            "_model_module_version": "1.5.0",
            "_model_name": "DescriptionStyleModel",
            "_view_count": null,
            "_view_module": "@jupyter-widgets/base",
            "_view_module_version": "1.2.0",
            "_view_name": "StyleView",
            "description_width": ""
          }
        }
      }
    }
  },
  "nbformat": 4,
  "nbformat_minor": 5
}